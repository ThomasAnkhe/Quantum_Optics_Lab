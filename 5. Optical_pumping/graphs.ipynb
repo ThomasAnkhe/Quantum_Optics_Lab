{
 "cells": [
  {
   "cell_type": "code",
   "execution_count": 20,
   "id": "5a0c6870",
   "metadata": {},
   "outputs": [],
   "source": [
    "import matplotlib.pyplot as plt\n",
    "import numpy as np\n",
    "import pandas as pd\n",
    "from pathlib import Path\n",
    "\n",
    "from matplotlib import rc\n",
    "rc('font', **{'family': 'serif', 'serif': ['Computer Modern'], 'size': 14})\n",
    "rc('text', usetex=True)"
   ]
  },
  {
   "cell_type": "code",
   "execution_count": 21,
   "id": "d4640c91",
   "metadata": {},
   "outputs": [],
   "source": [
    "data_path = Path(\"data\")\n",
    "weak_zeeman = data_path / Path(\"weak_zeeman.xlsx\")\n",
    "wz_data = pd.read_excel(weak_zeeman)\n",
    "wz_freq = wz_data[\"Freq (kHz)\"].to_numpy()\n",
    "wz_Rb85 = wz_data[\"Rb85 (A)\"].to_numpy()\n",
    "wz_Rb87 = wz_data[\"Rb87 (A)\"].to_numpy() "
   ]
  },
  {
   "cell_type": "code",
   "execution_count": null,
   "id": "331d6329",
   "metadata": {},
   "outputs": [
    {
     "data": {
      "text/plain": [
       "np.float64(0.6739768606458296)"
      ]
     },
     "execution_count": 22,
     "metadata": {},
     "output_type": "execute_result"
    }
   ],
   "source": [
    "m_Rb85, b_Rb85 = np.polyfit(wz_Rb85, wz_freq, 1)\n",
    "m_Rb87, b_Rb87 = np.polyfit(wz_Rb87, wz_freq, 1)\n",
    "m_Rb87/m_Rb85"
   ]
  },
  {
   "cell_type": "code",
   "execution_count": null,
   "id": "e484587e",
   "metadata": {},
   "outputs": [],
   "source": [
    "fig, ax = plt.subplots(figsize=(8,7))\n",
    "ax.scatter(wz_Rb85, wz_freq, label = \"Rb85\")\n",
    "ax.scatter(wz_Rb87, wz_freq, label = \"Rb87\")\n",
    "ax.set_ylabel(\"Frecuencia [Hz]\")\n",
    "ax.set_xlabel(\"Corriente [A]\")\n",
    "ax.legend()\n",
    "ax.grid()"
   ]
  },
  {
   "cell_type": "code",
   "execution_count": null,
   "id": "bf301148",
   "metadata": {},
   "outputs": [],
   "source": []
  },
  {
   "cell_type": "code",
   "execution_count": null,
   "id": "2326196c",
   "metadata": {},
   "outputs": [],
   "source": []
  }
 ],
 "metadata": {
  "kernelspec": {
   "display_name": "Python 3",
   "language": "python",
   "name": "python3"
  },
  "language_info": {
   "codemirror_mode": {
    "name": "ipython",
    "version": 3
   },
   "file_extension": ".py",
   "mimetype": "text/x-python",
   "name": "python",
   "nbconvert_exporter": "python",
   "pygments_lexer": "ipython3",
   "version": "3.13.3"
  }
 },
 "nbformat": 4,
 "nbformat_minor": 5
}
