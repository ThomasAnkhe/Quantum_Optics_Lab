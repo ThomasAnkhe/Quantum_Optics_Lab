{
 "cells": [
  {
   "cell_type": "code",
   "execution_count": 4,
   "id": "a68f70b8",
   "metadata": {},
   "outputs": [],
   "source": [
    "import os\n",
    "import matplotlib.pyplot as plt\n",
    "from nptdms import TdmsFile\n",
    "\n",
    "from matplotlib import rc\n",
    "rc('font', **{'family': 'serif', 'serif': ['Computer Modern'], 'size': 14})\n",
    "rc('text', usetex=True)\n",
    "\n",
    "path = \"~/Data/\""
   ]
  },
  {
   "cell_type": "code",
   "execution_count": null,
   "id": "1e2c6bdb",
   "metadata": {},
   "outputs": [],
   "source": []
  }
 ],
 "metadata": {
  "kernelspec": {
   "display_name": "Python [conda env:base] *",
   "language": "python",
   "name": "conda-base-py"
  },
  "language_info": {
   "codemirror_mode": {
    "name": "ipython",
    "version": 3
   },
   "file_extension": ".py",
   "mimetype": "text/x-python",
   "name": "python",
   "nbconvert_exporter": "python",
   "pygments_lexer": "ipython3",
   "version": "3.11.5"
  }
 },
 "nbformat": 4,
 "nbformat_minor": 5
}
