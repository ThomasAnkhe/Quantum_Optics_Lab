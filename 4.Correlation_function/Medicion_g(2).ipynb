{
 "cells": [
  {
   "cell_type": "code",
   "execution_count": 1,
   "id": "5938d5c2-6f07-4d19-8d42-1e7df7fe3f50",
   "metadata": {},
   "outputs": [
    {
     "name": "stdout",
     "output_type": "stream",
     "text": [
      "Requirement already satisfied: nptdms in c:\\users\\quant\\anaconda3\\lib\\site-packages (1.10.0)\n",
      "Requirement already satisfied: numpy in c:\\users\\quant\\anaconda3\\lib\\site-packages (from nptdms) (1.26.4)\n"
     ]
    }
   ],
   "source": [
    "!pip install nptdms"
   ]
  },
  {
   "cell_type": "code",
   "execution_count": 2,
   "id": "8aec83fd-88d5-42d7-b120-ba36ca1f78b4",
   "metadata": {},
   "outputs": [],
   "source": [
    "from nptdms import TdmsFile\n",
    "import pandas as pd\n",
    "import matplotlib.pyplot as plt\n",
    "import numpy as np\n",
    "\n",
    "multipliers = {\n",
    "    'p': 1e-12,\n",
    "    'n': 1e-9,\n",
    "    'u': 1e-6,\n",
    "    'm': 1e-3,\n",
    "    'k': 1e3,\n",
    "    'M': 1e6,\n",
    "    'G': 1e9,\n",
    "    '':1\n",
    "}\n",
    "\n",
    "def TDMS_File(file_path):\n",
    "    tdms_file = TdmsFile.read(file_path)\n",
    "\n",
    "    Groups_DataFrame = []\n",
    "\n",
    "    for group in tdms_file.groups():\n",
    "        \n",
    "        Groups_DataFrame.append(tdms_file[group.name].as_dataframe())\n",
    "        print(group.name)\n",
    "    \n",
    "    return Groups_DataFrame\n",
    "\n",
    "def convert(valor):\n",
    "    if isinstance(valor, str):\n",
    "        valor = valor.replace(',', '.')\n",
    "        for sufijo, mult in multipliers.items():\n",
    "            if valor.endswith(sufijo):\n",
    "                try:\n",
    "                    return float(valor.replace(sufijo, '')) * mult\n",
    "                except:\n",
    "                    return None\n",
    "    return valor\n",
    "\n",
    "def Excel_File(file_path):\n",
    "    df = pd.read_excel(file_path)\n",
    "    for col in df.columns:\n",
    "        df[col] = df[col].map(convert)\n",
    "    return df"
   ]
  },
  {
   "cell_type": "markdown",
   "id": "bd0ad9c3-242c-45f3-a9c1-e6c1e862816d",
   "metadata": {},
   "source": [
    "COHERENTE"
   ]
  },
  {
   "cell_type": "code",
   "execution_count": 4,
   "id": "fed98f75-f19a-4bf2-b16d-94c34615460e",
   "metadata": {},
   "outputs": [],
   "source": [
    "LASER_G2_2US = Excel_File(\"LASER_G2_2US.xlsx\")\n",
    "LASER_RATES = Excel_File(\"LASER_RATES.xlsx\")\n",
    "LASER_SSH = Excel_File(\"LASER_SSH.xlsx\")"
   ]
  },
  {
   "cell_type": "code",
   "execution_count": 199,
   "id": "0f303f03-f3c7-4451-9dd0-6fe04ba2e10e",
   "metadata": {},
   "outputs": [
    {
     "data": {
      "text/html": [
       "<div>\n",
       "<style scoped>\n",
       "    .dataframe tbody tr th:only-of-type {\n",
       "        vertical-align: middle;\n",
       "    }\n",
       "\n",
       "    .dataframe tbody tr th {\n",
       "        vertical-align: top;\n",
       "    }\n",
       "\n",
       "    .dataframe thead th {\n",
       "        text-align: right;\n",
       "    }\n",
       "</style>\n",
       "<table border=\"1\" class=\"dataframe\">\n",
       "  <thead>\n",
       "    <tr style=\"text-align: right;\">\n",
       "      <th></th>\n",
       "      <th>Time - Singles 1</th>\n",
       "      <th>Count rates (per second) - Singles 1</th>\n",
       "      <th>Time - Singles 2</th>\n",
       "      <th>Count rates (per second) - Singles 2</th>\n",
       "      <th>Time - Singles 3</th>\n",
       "      <th>Count rates (per second) - Singles 3</th>\n",
       "      <th>Time - Singles 4</th>\n",
       "      <th>Count rates (per second) - Singles 4</th>\n",
       "      <th>Time - Singles 5</th>\n",
       "      <th>Count rates (per second) - Singles 5</th>\n",
       "      <th>...</th>\n",
       "      <th>Time - Coinc 1+3+4</th>\n",
       "      <th>Count rates (per second) - Coinc 1+3+4</th>\n",
       "      <th>Time - Coinc 2+3+4</th>\n",
       "      <th>Count rates (per second) - Coinc 2+3+4</th>\n",
       "      <th>Time - Coinc 1+2+3+4</th>\n",
       "      <th>Count rates (per second) - Coinc 1+2+3+4</th>\n",
       "      <th>Time - Plot 19</th>\n",
       "      <th>Count rates (per second) - Plot 19</th>\n",
       "      <th>Time - Plot 20</th>\n",
       "      <th>Count rates (per second) - Plot 20</th>\n",
       "    </tr>\n",
       "  </thead>\n",
       "  <tbody>\n",
       "    <tr>\n",
       "      <th>0</th>\n",
       "      <td>17094</td>\n",
       "      <td>886950.0</td>\n",
       "      <td>17094</td>\n",
       "      <td>463030.0</td>\n",
       "      <td>17094</td>\n",
       "      <td>0</td>\n",
       "      <td>17094</td>\n",
       "      <td>0</td>\n",
       "      <td>17094</td>\n",
       "      <td>0</td>\n",
       "      <td>...</td>\n",
       "      <td>17094</td>\n",
       "      <td>0</td>\n",
       "      <td>17094</td>\n",
       "      <td>0</td>\n",
       "      <td>17094</td>\n",
       "      <td>0</td>\n",
       "      <td>17094</td>\n",
       "      <td>2700.0</td>\n",
       "      <td>17094</td>\n",
       "      <td>2300.0</td>\n",
       "    </tr>\n",
       "    <tr>\n",
       "      <th>1</th>\n",
       "      <td>17095</td>\n",
       "      <td>883160.0</td>\n",
       "      <td>17095</td>\n",
       "      <td>461760.0</td>\n",
       "      <td>17095</td>\n",
       "      <td>0</td>\n",
       "      <td>17095</td>\n",
       "      <td>0</td>\n",
       "      <td>17095</td>\n",
       "      <td>0</td>\n",
       "      <td>...</td>\n",
       "      <td>17095</td>\n",
       "      <td>0</td>\n",
       "      <td>17095</td>\n",
       "      <td>0</td>\n",
       "      <td>17095</td>\n",
       "      <td>0</td>\n",
       "      <td>17095</td>\n",
       "      <td>2700.0</td>\n",
       "      <td>17095</td>\n",
       "      <td>2300.0</td>\n",
       "    </tr>\n",
       "    <tr>\n",
       "      <th>2</th>\n",
       "      <td>17096</td>\n",
       "      <td>886080.0</td>\n",
       "      <td>17096</td>\n",
       "      <td>465570.0</td>\n",
       "      <td>17096</td>\n",
       "      <td>0</td>\n",
       "      <td>17096</td>\n",
       "      <td>0</td>\n",
       "      <td>17096</td>\n",
       "      <td>0</td>\n",
       "      <td>...</td>\n",
       "      <td>17096</td>\n",
       "      <td>0</td>\n",
       "      <td>17096</td>\n",
       "      <td>0</td>\n",
       "      <td>17096</td>\n",
       "      <td>0</td>\n",
       "      <td>17096</td>\n",
       "      <td>2700.0</td>\n",
       "      <td>17096</td>\n",
       "      <td>2300.0</td>\n",
       "    </tr>\n",
       "    <tr>\n",
       "      <th>3</th>\n",
       "      <td>17097</td>\n",
       "      <td>885190.0</td>\n",
       "      <td>17097</td>\n",
       "      <td>464040.0</td>\n",
       "      <td>17097</td>\n",
       "      <td>0</td>\n",
       "      <td>17097</td>\n",
       "      <td>0</td>\n",
       "      <td>17097</td>\n",
       "      <td>0</td>\n",
       "      <td>...</td>\n",
       "      <td>17097</td>\n",
       "      <td>0</td>\n",
       "      <td>17097</td>\n",
       "      <td>0</td>\n",
       "      <td>17097</td>\n",
       "      <td>0</td>\n",
       "      <td>17097</td>\n",
       "      <td>2700.0</td>\n",
       "      <td>17097</td>\n",
       "      <td>2300.0</td>\n",
       "    </tr>\n",
       "    <tr>\n",
       "      <th>4</th>\n",
       "      <td>17098</td>\n",
       "      <td>891690.0</td>\n",
       "      <td>17098</td>\n",
       "      <td>462990.0</td>\n",
       "      <td>17098</td>\n",
       "      <td>0</td>\n",
       "      <td>17098</td>\n",
       "      <td>0</td>\n",
       "      <td>17098</td>\n",
       "      <td>0</td>\n",
       "      <td>...</td>\n",
       "      <td>17098</td>\n",
       "      <td>0</td>\n",
       "      <td>17098</td>\n",
       "      <td>0</td>\n",
       "      <td>17098</td>\n",
       "      <td>0</td>\n",
       "      <td>17098</td>\n",
       "      <td>2700.0</td>\n",
       "      <td>17098</td>\n",
       "      <td>2300.0</td>\n",
       "    </tr>\n",
       "    <tr>\n",
       "      <th>...</th>\n",
       "      <td>...</td>\n",
       "      <td>...</td>\n",
       "      <td>...</td>\n",
       "      <td>...</td>\n",
       "      <td>...</td>\n",
       "      <td>...</td>\n",
       "      <td>...</td>\n",
       "      <td>...</td>\n",
       "      <td>...</td>\n",
       "      <td>...</td>\n",
       "      <td>...</td>\n",
       "      <td>...</td>\n",
       "      <td>...</td>\n",
       "      <td>...</td>\n",
       "      <td>...</td>\n",
       "      <td>...</td>\n",
       "      <td>...</td>\n",
       "      <td>...</td>\n",
       "      <td>...</td>\n",
       "      <td>...</td>\n",
       "      <td>...</td>\n",
       "    </tr>\n",
       "    <tr>\n",
       "      <th>105</th>\n",
       "      <td>17199</td>\n",
       "      <td>880600.0</td>\n",
       "      <td>17199</td>\n",
       "      <td>461130.0</td>\n",
       "      <td>17199</td>\n",
       "      <td>0</td>\n",
       "      <td>17199</td>\n",
       "      <td>0</td>\n",
       "      <td>17199</td>\n",
       "      <td>0</td>\n",
       "      <td>...</td>\n",
       "      <td>17199</td>\n",
       "      <td>0</td>\n",
       "      <td>17199</td>\n",
       "      <td>0</td>\n",
       "      <td>17199</td>\n",
       "      <td>0</td>\n",
       "      <td>17199</td>\n",
       "      <td>2700.0</td>\n",
       "      <td>17199</td>\n",
       "      <td>2300.0</td>\n",
       "    </tr>\n",
       "    <tr>\n",
       "      <th>106</th>\n",
       "      <td>17200</td>\n",
       "      <td>879580.0</td>\n",
       "      <td>17200</td>\n",
       "      <td>461610.0</td>\n",
       "      <td>17200</td>\n",
       "      <td>0</td>\n",
       "      <td>17200</td>\n",
       "      <td>0</td>\n",
       "      <td>17200</td>\n",
       "      <td>0</td>\n",
       "      <td>...</td>\n",
       "      <td>17200</td>\n",
       "      <td>0</td>\n",
       "      <td>17200</td>\n",
       "      <td>0</td>\n",
       "      <td>17200</td>\n",
       "      <td>0</td>\n",
       "      <td>17200</td>\n",
       "      <td>2700.0</td>\n",
       "      <td>17200</td>\n",
       "      <td>2300.0</td>\n",
       "    </tr>\n",
       "    <tr>\n",
       "      <th>107</th>\n",
       "      <td>17201</td>\n",
       "      <td>886220.0</td>\n",
       "      <td>17201</td>\n",
       "      <td>460940.0</td>\n",
       "      <td>17201</td>\n",
       "      <td>0</td>\n",
       "      <td>17201</td>\n",
       "      <td>0</td>\n",
       "      <td>17201</td>\n",
       "      <td>0</td>\n",
       "      <td>...</td>\n",
       "      <td>17201</td>\n",
       "      <td>0</td>\n",
       "      <td>17201</td>\n",
       "      <td>0</td>\n",
       "      <td>17201</td>\n",
       "      <td>0</td>\n",
       "      <td>17201</td>\n",
       "      <td>2700.0</td>\n",
       "      <td>17201</td>\n",
       "      <td>2300.0</td>\n",
       "    </tr>\n",
       "    <tr>\n",
       "      <th>108</th>\n",
       "      <td>17202</td>\n",
       "      <td>891140.0</td>\n",
       "      <td>17202</td>\n",
       "      <td>459630.0</td>\n",
       "      <td>17202</td>\n",
       "      <td>0</td>\n",
       "      <td>17202</td>\n",
       "      <td>0</td>\n",
       "      <td>17202</td>\n",
       "      <td>0</td>\n",
       "      <td>...</td>\n",
       "      <td>17202</td>\n",
       "      <td>0</td>\n",
       "      <td>17202</td>\n",
       "      <td>0</td>\n",
       "      <td>17202</td>\n",
       "      <td>0</td>\n",
       "      <td>17202</td>\n",
       "      <td>2700.0</td>\n",
       "      <td>17202</td>\n",
       "      <td>2300.0</td>\n",
       "    </tr>\n",
       "    <tr>\n",
       "      <th>109</th>\n",
       "      <td>17203</td>\n",
       "      <td>884580.0</td>\n",
       "      <td>17203</td>\n",
       "      <td>462890.0</td>\n",
       "      <td>17203</td>\n",
       "      <td>0</td>\n",
       "      <td>17203</td>\n",
       "      <td>0</td>\n",
       "      <td>17203</td>\n",
       "      <td>0</td>\n",
       "      <td>...</td>\n",
       "      <td>17203</td>\n",
       "      <td>0</td>\n",
       "      <td>17203</td>\n",
       "      <td>0</td>\n",
       "      <td>17203</td>\n",
       "      <td>0</td>\n",
       "      <td>17203</td>\n",
       "      <td>2700.0</td>\n",
       "      <td>17203</td>\n",
       "      <td>2300.0</td>\n",
       "    </tr>\n",
       "  </tbody>\n",
       "</table>\n",
       "<p>110 rows × 42 columns</p>\n",
       "</div>"
      ],
      "text/plain": [
       "     Time - Singles 1  Count rates (per second) - Singles 1  Time - Singles 2  \\\n",
       "0               17094                              886950.0             17094   \n",
       "1               17095                              883160.0             17095   \n",
       "2               17096                              886080.0             17096   \n",
       "3               17097                              885190.0             17097   \n",
       "4               17098                              891690.0             17098   \n",
       "..                ...                                   ...               ...   \n",
       "105             17199                              880600.0             17199   \n",
       "106             17200                              879580.0             17200   \n",
       "107             17201                              886220.0             17201   \n",
       "108             17202                              891140.0             17202   \n",
       "109             17203                              884580.0             17203   \n",
       "\n",
       "     Count rates (per second) - Singles 2  Time - Singles 3  \\\n",
       "0                                463030.0             17094   \n",
       "1                                461760.0             17095   \n",
       "2                                465570.0             17096   \n",
       "3                                464040.0             17097   \n",
       "4                                462990.0             17098   \n",
       "..                                    ...               ...   \n",
       "105                              461130.0             17199   \n",
       "106                              461610.0             17200   \n",
       "107                              460940.0             17201   \n",
       "108                              459630.0             17202   \n",
       "109                              462890.0             17203   \n",
       "\n",
       "     Count rates (per second) - Singles 3  Time - Singles 4  \\\n",
       "0                                       0             17094   \n",
       "1                                       0             17095   \n",
       "2                                       0             17096   \n",
       "3                                       0             17097   \n",
       "4                                       0             17098   \n",
       "..                                    ...               ...   \n",
       "105                                     0             17199   \n",
       "106                                     0             17200   \n",
       "107                                     0             17201   \n",
       "108                                     0             17202   \n",
       "109                                     0             17203   \n",
       "\n",
       "     Count rates (per second) - Singles 4  Time - Singles 5  \\\n",
       "0                                       0             17094   \n",
       "1                                       0             17095   \n",
       "2                                       0             17096   \n",
       "3                                       0             17097   \n",
       "4                                       0             17098   \n",
       "..                                    ...               ...   \n",
       "105                                     0             17199   \n",
       "106                                     0             17200   \n",
       "107                                     0             17201   \n",
       "108                                     0             17202   \n",
       "109                                     0             17203   \n",
       "\n",
       "     Count rates (per second) - Singles 5  ...  Time - Coinc 1+3+4  \\\n",
       "0                                       0  ...               17094   \n",
       "1                                       0  ...               17095   \n",
       "2                                       0  ...               17096   \n",
       "3                                       0  ...               17097   \n",
       "4                                       0  ...               17098   \n",
       "..                                    ...  ...                 ...   \n",
       "105                                     0  ...               17199   \n",
       "106                                     0  ...               17200   \n",
       "107                                     0  ...               17201   \n",
       "108                                     0  ...               17202   \n",
       "109                                     0  ...               17203   \n",
       "\n",
       "     Count rates (per second) - Coinc 1+3+4  Time - Coinc 2+3+4  \\\n",
       "0                                         0               17094   \n",
       "1                                         0               17095   \n",
       "2                                         0               17096   \n",
       "3                                         0               17097   \n",
       "4                                         0               17098   \n",
       "..                                      ...                 ...   \n",
       "105                                       0               17199   \n",
       "106                                       0               17200   \n",
       "107                                       0               17201   \n",
       "108                                       0               17202   \n",
       "109                                       0               17203   \n",
       "\n",
       "     Count rates (per second) - Coinc 2+3+4  Time - Coinc 1+2+3+4  \\\n",
       "0                                         0                 17094   \n",
       "1                                         0                 17095   \n",
       "2                                         0                 17096   \n",
       "3                                         0                 17097   \n",
       "4                                         0                 17098   \n",
       "..                                      ...                   ...   \n",
       "105                                       0                 17199   \n",
       "106                                       0                 17200   \n",
       "107                                       0                 17201   \n",
       "108                                       0                 17202   \n",
       "109                                       0                 17203   \n",
       "\n",
       "     Count rates (per second) - Coinc 1+2+3+4  Time - Plot 19  \\\n",
       "0                                           0           17094   \n",
       "1                                           0           17095   \n",
       "2                                           0           17096   \n",
       "3                                           0           17097   \n",
       "4                                           0           17098   \n",
       "..                                        ...             ...   \n",
       "105                                         0           17199   \n",
       "106                                         0           17200   \n",
       "107                                         0           17201   \n",
       "108                                         0           17202   \n",
       "109                                         0           17203   \n",
       "\n",
       "     Count rates (per second) - Plot 19  Time - Plot 20  \\\n",
       "0                                2700.0           17094   \n",
       "1                                2700.0           17095   \n",
       "2                                2700.0           17096   \n",
       "3                                2700.0           17097   \n",
       "4                                2700.0           17098   \n",
       "..                                  ...             ...   \n",
       "105                              2700.0           17199   \n",
       "106                              2700.0           17200   \n",
       "107                              2700.0           17201   \n",
       "108                              2700.0           17202   \n",
       "109                              2700.0           17203   \n",
       "\n",
       "     Count rates (per second) - Plot 20  \n",
       "0                                2300.0  \n",
       "1                                2300.0  \n",
       "2                                2300.0  \n",
       "3                                2300.0  \n",
       "4                                2300.0  \n",
       "..                                  ...  \n",
       "105                              2300.0  \n",
       "106                              2300.0  \n",
       "107                              2300.0  \n",
       "108                              2300.0  \n",
       "109                              2300.0  \n",
       "\n",
       "[110 rows x 42 columns]"
      ]
     },
     "execution_count": 199,
     "metadata": {},
     "output_type": "execute_result"
    }
   ],
   "source": [
    "LASER_RATES"
   ]
  },
  {
   "cell_type": "code",
   "execution_count": 73,
   "id": "962d55ca-7a1a-43e5-8031-776cc466628f",
   "metadata": {},
   "outputs": [
    {
     "data": {
      "text/plain": [
       "<matplotlib.collections.PathCollection at 0x1ea06960830>"
      ]
     },
     "execution_count": 73,
     "metadata": {},
     "output_type": "execute_result"
    },
    {
     "data": {
      "image/png": "[encoded data removed]",
      "text/plain": [
       "<Figure size 640x480 with 1 Axes>"
      ]
     },
     "metadata": {},
     "output_type": "display_data"
    }
   ],
   "source": [
    "plt.scatter(LASER_G2_2US[\"tau (s) - HBT Measurement\"], LASER_G2_2US[\"g^(2)(tau) - HBT Measurement\"])"
   ]
  },
  {
   "cell_type": "code",
   "execution_count": 67,
   "id": "834fcb9c-6510-4362-ac29-2fab07031226",
   "metadata": {},
   "outputs": [
    {
     "name": "stdout",
     "output_type": "stream",
     "text": [
      "Datos\n",
      "Datos\n",
      "Canal A\n",
      "Canal B\n",
      "Canal C\n",
      "Coincidencias AB\n",
      "Coincidencias AC\n",
      "Coincidencias BC\n",
      "Coincidencias ABC\n"
     ]
    }
   ],
   "source": [
    "#Esta parte es con el qtau\n",
    "\n",
    "Datos_laser1 = TDMS_File(\"Laser_FPGA_100ms.tdms\")[0]\n",
    "Datos_laser2 = TDMS_File(\"Laser_FPGA_100ms_2.tdms\")[0]\n",
    "CanalA_laser, CanalB_laser, _, CoinAB_laser, _, _, _ = TDMS_File(\"Laser_FPGA_100ms_cortos.tdms\")"
   ]
  },
  {
   "cell_type": "code",
   "execution_count": 163,
   "id": "3d3a5eaf-39ca-4cdc-8b99-9d029fd7bce0",
   "metadata": {},
   "outputs": [
    {
     "data": {
      "text/plain": [
       "array([47124.7       , 89291.28333333])"
      ]
     },
     "execution_count": 163,
     "metadata": {},
     "output_type": "execute_result"
    }
   ],
   "source": [
    "channels = Datos_laser1.mean().iloc[:2].to_numpy()\n",
    "channels"
   ]
  },
  {
   "cell_type": "code",
   "execution_count": 165,
   "id": "1b0c841a-4d07-43e2-83f9-0288dd8a4bfd",
   "metadata": {},
   "outputs": [
    {
     "data": {
      "text/plain": [
       "array([1.94839379e-07, 1.77558084e-07, 1.30217711e-07, 1.57733907e-07,\n",
       "       2.31077421e-07, 1.17245847e-07, 1.20212542e-07, 1.59417278e-07,\n",
       "       2.16616268e-07, 1.15970446e-07, 6.22213781e-08, 1.63017713e-07,\n",
       "       2.37593059e-07, 1.27658986e-07, 1.69196678e-07, 1.36570954e-07,\n",
       "       1.80302970e-07, 2.51392746e-07, 1.36265967e-07, 1.45364096e-07,\n",
       "       1.28158057e-07])"
      ]
     },
     "execution_count": 165,
     "metadata": {},
     "output_type": "execute_result"
    }
   ],
   "source": [
    "#tau_coin para largos\n",
    "\n",
    "taus_largos = Datos_laser1.mean().iloc[2:].to_numpy() / (channels[0]*channels[1])\n",
    "taus_largos"
   ]
  },
  {
   "cell_type": "code",
   "execution_count": 103,
   "id": "2797e0e8-215f-4856-86dc-d04deeb48ce7",
   "metadata": {},
   "outputs": [
    {
     "data": {
      "text/plain": [
       "array([5.55205281e-08, 5.33833752e-08, 5.49327973e-08, 5.35220677e-08,\n",
       "       5.54474004e-08, 5.62332018e-08, 5.66572278e-08, 5.28229546e-08,\n",
       "       5.50873999e-08, 5.10718855e-08, 5.65997308e-08, 5.25290783e-08,\n",
       "       5.44132546e-08, 5.70171551e-08, 5.26132157e-08, 5.50488176e-08,\n",
       "       5.35637734e-08, 5.39233494e-08, 5.62058377e-08, 5.25853264e-08])"
      ]
     },
     "execution_count": 103,
     "metadata": {},
     "output_type": "execute_result"
    }
   ],
   "source": [
    "#tau_coin para cortos\n",
    "taus_cortos = CoinAB_laser.mean() / (CanalA_laser.mean() *CanalB_laser.mean())\n",
    "taus_cortos = taus_cortos.to_numpy()\n",
    "taus_cortos"
   ]
  },
  {
   "cell_type": "markdown",
   "id": "3d4cf21b-800f-4662-936d-12b6e456d4e5",
   "metadata": {},
   "source": [
    "SPDC"
   ]
  },
  {
   "cell_type": "code",
   "execution_count": 7,
   "id": "a5125022-5713-43cd-8bc6-aaa49508e768",
   "metadata": {},
   "outputs": [],
   "source": [
    "SPDC_G2 = Excel_File(\"SPDC_G2.xlsx\")\n",
    "SPDC_RATES = Excel_File(\"SPDC_RATES.xlsx\")\n",
    "SPDC_SSH = Excel_File(\"SPDC_SSH.xlsx\")"
   ]
  },
  {
   "cell_type": "code",
   "execution_count": 8,
   "id": "26ac264a-efa7-447a-9dc0-ebf1ef21ffcc",
   "metadata": {},
   "outputs": [
    {
     "data": {
      "text/plain": [
       "<matplotlib.collections.PathCollection at 0x1ea03818830>"
      ]
     },
     "execution_count": 8,
     "metadata": {},
     "output_type": "execute_result"
    },
    {
     "data": {
      "image/png": "[encoded data removed]",
      "text/plain": [
       "<Figure size 640x480 with 1 Axes>"
      ]
     },
     "metadata": {},
     "output_type": "display_data"
    }
   ],
   "source": [
    "plt.scatter(SPDC_G2[\"tau (s) - HBT Measurement\"], SPDC_G2[\"g^(2)(tau) - HBT Measurement\"])"
   ]
  },
  {
   "cell_type": "markdown",
   "id": "7dc33769-e641-46de-90c2-c51de57465cd",
   "metadata": {},
   "source": [
    "PSEUDOTÉRMICA"
   ]
  },
  {
   "cell_type": "code",
   "execution_count": 25,
   "id": "b85244ca-bce6-4ea5-8990-219727d0ffb6",
   "metadata": {},
   "outputs": [
    {
     "name": "stdout",
     "output_type": "stream",
     "text": [
      "Canal A\n",
      "Canal B\n",
      "Canal C\n",
      "Coincidencias AB\n",
      "Coincidencias AC\n",
      "Coincidencias BC\n",
      "Coincidencias ABC\n"
     ]
    }
   ],
   "source": [
    "CanalA, CanalB, CanalC, CoinAB, CoinAC, CoinBC, CoinABC = TDMS_File(\"termica_FPGA_100ms_cortos_3.25V.tdms\")"
   ]
  },
  {
   "cell_type": "code",
   "execution_count": 143,
   "id": "dee8fbe2-bd6b-4a96-b667-7c7715c622ca",
   "metadata": {},
   "outputs": [],
   "source": [
    "taussss = np.array([1,2,3,4,5,6,7,8,9,10,11,12,13,14,15,16,17,18,19,20])*10"
   ]
  },
  {
   "cell_type": "code",
   "execution_count": 133,
   "id": "6e103de8-7c26-4af0-a0a1-bf5885a3e1b6",
   "metadata": {},
   "outputs": [],
   "source": [
    " g2_term = CoinAB.mean().to_numpy() / (CanalA.mean().to_numpy()* CanalB.mean().to_numpy() *  taus_cortos)"
   ]
  },
  {
   "cell_type": "code",
   "execution_count": 147,
   "id": "1a6dbb43-9519-4643-80a8-211b7224e52a",
   "metadata": {},
   "outputs": [
    {
     "data": {
      "text/plain": [
       "[<matplotlib.lines.Line2D at 0x1ea06772ae0>]"
      ]
     },
     "execution_count": 147,
     "metadata": {},
     "output_type": "execute_result"
    },
    {
     "data": {
      "image/png": "[encoded data removed]",
      "text/plain": [
       "<Figure size 640x480 with 1 Axes>"
      ]
     },
     "metadata": {},
     "output_type": "display_data"
    }
   ],
   "source": [
    "plt.plot(taussss, g2_term)"
   ]
  },
  {
   "cell_type": "code",
   "execution_count": 155,
   "id": "2775fe1b-d71f-4fe0-8538-7fc33ecee5f5",
   "metadata": {},
   "outputs": [
    {
     "name": "stdout",
     "output_type": "stream",
     "text": [
      "Datos\n"
     ]
    }
   ],
   "source": [
    "Datos1 = TDMS_File(\"termica_FPGA_100ms_largos_3.25V_2.tdms\")[0]"
   ]
  },
  {
   "cell_type": "code",
   "execution_count": null,
   "id": "3abbd38b-c06a-4739-a1bd-b9cd4b3b7e3d",
   "metadata": {},
   "outputs": [],
   "source": []
  },
  {
   "cell_type": "code",
   "execution_count": 187,
   "id": "749df038-15ca-4904-b2df-dc3164106a35",
   "metadata": {},
   "outputs": [
    {
     "data": {
      "text/plain": [
       "[<matplotlib.lines.Line2D at 0x1ea072346e0>]"
      ]
     },
     "execution_count": 187,
     "metadata": {},
     "output_type": "execute_result"
    },
    {
     "data": {
      "image/png": "[encoded data removed]",
      "text/plain": [
       "<Figure size 640x480 with 1 Axes>"
      ]
     },
     "metadata": {},
     "output_type": "display_data"
    }
   ],
   "source": [
    "channels_term = Datos1.mean().iloc[:2].to_numpy()\n",
    "channels_term\n",
    "\n",
    "g2_term2 = Datos1.mean().iloc[2:].to_numpy() / (channels_term[0]*channels_term[1]*taus_largos)\n",
    "taus_term = np.arange(-10, 11, 1)*10\n",
    "\n",
    "plt.plot(taus_term, g2_term2)"
   ]
  },
  {
   "cell_type": "code",
   "execution_count": 185,
   "id": "5de81018-7f7e-4620-94f1-f9956e824b78",
   "metadata": {},
   "outputs": [
    {
     "data": {
      "text/plain": [
       "array([7.75618219, 7.75618219, 7.75618219, 7.75618219, 7.75618219,\n",
       "       7.75618219, 7.75618219, 7.75618219, 7.75618219, 7.75618219,\n",
       "       7.75618219, 7.75618219, 7.75618219, 7.75618219, 7.75618219,\n",
       "       7.75618219, 7.75618219, 7.75618219, 7.75618219, 7.75618219,\n",
       "       7.75618219])"
      ]
     },
     "execution_count": 185,
     "metadata": {},
     "output_type": "execute_result"
    }
   ],
   "source": [
    "g2_term2"
   ]
  },
  {
   "cell_type": "code",
   "execution_count": 31,
   "id": "a0db6e69-5d6f-41ed-b0bb-5076bf49f919",
   "metadata": {},
   "outputs": [
    {
     "name": "stdout",
     "output_type": "stream",
     "text": [
      "Datos\n"
     ]
    }
   ],
   "source": [
    "Datos2 = TDMS_File(\"termica_FPGA_100ms_largos_0.75V.tdms\")"
   ]
  },
  {
   "cell_type": "code",
   "execution_count": 47,
   "id": "7f126d63-4439-42ef-8dc0-2cadeeac3cfc",
   "metadata": {},
   "outputs": [
    {
     "data": {
      "text/plain": [
       "[    Canal A  Canal B  -100us  -90us  -80us  -70us  -60us  -50us  -40us  -30us  \\\n",
       " 0     15638    31352     172    138     85    157    222     94    105    162   \n",
       " 1     19754    39586     195    181    129    222    287    127    148    248   \n",
       " 2     15747    32002     141    129     94    144    194     86     98    161   \n",
       " 3     15003    30398     115     95     86    127    178     98     90    138   \n",
       " 4     15185    30736     160    128     89    127    206     87     77    139   \n",
       " 5     19152    38398     246    173    130    173    284    124    123    218   \n",
       " 6     15688    30973     145    114     91    136    211    110    107    146   \n",
       " 7     16038    32217     141    157    100    145    227     99    100    166   \n",
       " 8     14895    29917     146    113     93    130    167     80     91    155   \n",
       " 9     18997    37604     223    158    121    189    266    142    126    213   \n",
       " 10    14662    29477     151    118     73    108    207     80     80    135   \n",
       " 11    16154    32377     155    142     97    136    204    105    104    159   \n",
       " 12    15424    31029     158    126     88    151    181     72     90    156   \n",
       " 13    18304    35512     215    176    156    168    254     96    112    198   \n",
       " 14    15025    29976     131    141     86    108    182    105     99    142   \n",
       " 15    16977    33985     188    130    115    173    246    122    131    205   \n",
       " 16    16363    32993     163    150     95    156    195    106    101    151   \n",
       " 17    17812    35688     192    143    111    181    278    110    119    186   \n",
       " 18    14096    28424     118    101     78    111    169     70     84    150   \n",
       " 19    17328    34667     201    169    104    165    238    118    130    186   \n",
       " 20    17020    34273     160    136    115    161    233    134    111    194   \n",
       " 21    17321    34213     178    129    130    164    219    106    112    180   \n",
       " 22    13829    28227     115     92     78    128    178     67     89    144   \n",
       " 23    17684    34917     218    174    141    178    225    131    142    188   \n",
       " 24    17457    35091     198    162     98    150    239    150    130    197   \n",
       " 25    16480    33039     166    132     85    167    223    102    109    161   \n",
       " 26    13156    26561     117    102     57    101    139     75     67    109   \n",
       " 27    16831    34008     199    159    108    174    262    129    106    196   \n",
       " 28    17783    35678     191    146    106    171    217    113    121    188   \n",
       " 29    16351    32372     163    139     97    146    226     95    101    155   \n",
       " 30    13191    26709     108     89     56     92    141     61     75    110   \n",
       " 31    16846    34006     169    165    104    186    273    141    110    178   \n",
       " 32    18943    37653     228    187    115    187    267    140    138    197   \n",
       " 33    16740    33241     176    143    115    163    210     84    107    156   \n",
       " 34    13359    26712      93     99     65     94    123     64     87    114   \n",
       " 35    16019    32049     158    149     75    136    213    113     98    172   \n",
       " 36    19209    38514     227    155    135    220    264    125    146    216   \n",
       " 37    16843    33774     165    141    103    153    226    110    119    151   \n",
       " 38    13512    27228      97     93     65    115    123     71     68    114   \n",
       " 39    15623    31380     175    115     87    119    194    107     99    164   \n",
       " 40    19631    38734     239    199    143    208    289    141    135    210   \n",
       " 41    15814    32019     146    127     86    112    223     92    110    160   \n",
       " 42    14211    28466     121    103     63    114    147     58     82    114   \n",
       " 43    14906    30045     118    124     90    133    181     91    102    139   \n",
       " 44    19135    38406     214    198    114    191    283    144    113    251   \n",
       " 45    15595    31421     146    131     88    115    177     83     95    152   \n",
       " 46    15362    30404     134    113     92    129    190     89     99    134   \n",
       " 47    14481    29444     114    110     87    117    176     69     63    137   \n",
       " 48    18821    38131     205    183    140    194    271    128    126    210   \n",
       " 49    14679    29815     147    127     99    105    192     66     64    142   \n",
       " 50    15626    31227     140    145     98    126    176    116     99    168   \n",
       " 51    14705    29330     125    106    104    106    152     72     83    121   \n",
       " 52    17889    34920     203    180    121    160    269     99    136    184   \n",
       " 53    13940    28301     136    104     75    106    141     81     67    116   \n",
       " 54    16305    32552     162    153     88    132    206    103    119    154   \n",
       " 55    15490    31529     138    134     90    132    189     90    118    145   \n",
       " 56    17501    34131     208    147    111    143    218     95    100    183   \n",
       " 57    14184    28193     120    118     88    130    165     79     82    141   \n",
       " 58    16682    33174     171    152     89    149    239     98    125    163   \n",
       " 59    16611    32596     176    142     95    156    227    110    118    155   \n",
       " \n",
       "     ...  10us  20us  30us  40us  50us  60us  70us  80us  90us  100us  \n",
       " 0   ...   175   244   128   146   132   171   240   133   143     94  \n",
       " 1   ...   248   318   170   206   199   221   329   135   186    141  \n",
       " 2   ...   148   200   106   150   125   140   183   134   119     92  \n",
       " 3   ...   136   203   115   130   110   132   202    81   106     78  \n",
       " 4   ...   139   232   108   140   122   154   209   103   153    101  \n",
       " 5   ...   228   331   188   204   202   226   334   153   182    131  \n",
       " 6   ...   154   193   124   152   108   144   186   120   130    108  \n",
       " 7   ...   148   249   116   149   130   185   222   110   154     80  \n",
       " 8   ...   120   203    82   134   103   181   158   102   119     74  \n",
       " 9   ...   242   301   155   211   178   204   283   162   163    142  \n",
       " 10  ...   137   186   119   109   129   133   197    99   132     73  \n",
       " 11  ...   155   205   134   164   114   188   226   110   121    104  \n",
       " 12  ...   130   225   104   134   115   142   183    99   122     95  \n",
       " 13  ...   185   299   175   165   170   216   281   143   162    116  \n",
       " 14  ...   139   191   107   142    92   133   194   112   121     71  \n",
       " 15  ...   176   255   124   156   152   201   245   116   180    124  \n",
       " 16  ...   176   267   107   164   136   181   251   122   149     84  \n",
       " 17  ...   199   291   154   196   147   207   238   136   174    104  \n",
       " 18  ...   122   186    99   125    88   133   187    84   109     74  \n",
       " 19  ...   184   274   130   197   146   228   299   150   171    115  \n",
       " 20  ...   187   248   143   182   119   185   238   116   153     88  \n",
       " 21  ...   194   266   127   157   156   206   206   142   129     95  \n",
       " 22  ...   134   170    90   138    95   138   150    79    95     77  \n",
       " 23  ...   180   288   130   200   157   221   272   147   183    133  \n",
       " 24  ...   184   273   134   185   154   194   256   142   152    100  \n",
       " 25  ...   158   223   104   182   147   173   209   125   113     83  \n",
       " 26  ...   106   151    72    77    78   121   132    64    73     80  \n",
       " 27  ...   198   251   136   206   163   196   270   128   166    116  \n",
       " 28  ...   206   279   141   188   153   216   256   132   156    127  \n",
       " 29  ...   170   235   123   134   142   173   208   127   129    105  \n",
       " 30  ...   106   157    85   111    82    99   138    79    86     77  \n",
       " 31  ...   190   268   108   189   160   207   261   123   157    106  \n",
       " 32  ...   228   314   165   209   159   254   318   166   175    130  \n",
       " 33  ...   144   232   112   160   119   168   249   142   162    107  \n",
       " 34  ...   116   143    89   104    89   110   121    80    80     52  \n",
       " 35  ...   148   234   128   165   131   164   215   131   161     95  \n",
       " 36  ...   237   342   164   230   149   222   304   168   202    119  \n",
       " 37  ...   166   259   132   153   163   200   227   157   152    106  \n",
       " 38  ...   111   156    80    96    99   125   145    57    96     61  \n",
       " 39  ...   146   215   117   156   135   159   226   131   129     82  \n",
       " 40  ...   245   304   157   206   174   227   330   169   177    139  \n",
       " 41  ...   156   207   116   147   123   141   205   124   122     83  \n",
       " 42  ...   121   170    98   129    99   116   148    93   104     72  \n",
       " 43  ...   138   197   110   123   103   148   206   105   143     80  \n",
       " 44  ...   249   325   163   211   179   235   286   173   189    129  \n",
       " 45  ...   152   228   106   182   118   144   209   107   153    102  \n",
       " 46  ...   134   220   102   158   100   141   188   101   136     94  \n",
       " 47  ...   144   181    98   131   109   150   193    87   128     75  \n",
       " 48  ...   249   317   141   195   165   217   315   159   185    111  \n",
       " 49  ...   123   224    99   144   131   147   186    93   121     67  \n",
       " 50  ...   171   220   111   148   144   160   197   100   124     89  \n",
       " 51  ...   144   188   100   128    92   139   172    99   108     69  \n",
       " 52  ...   207   293   147   178   155   217   243   146   146    102  \n",
       " 53  ...   134   170    94    97   112   118   181    70    91     85  \n",
       " 54  ...   173   257   138   148   137   190   230   108   143    119  \n",
       " 55  ...   156   228   121   169   110   148   221   113   138     94  \n",
       " 56  ...   190   255   141   173   137   207   259   126   163    106  \n",
       " 57  ...   133   178    88   123    97   119   182    75   100     54  \n",
       " 58  ...   183   255   131   197   144   196   237   128   147    102  \n",
       " 59  ...   178   245   112   154   142   158   233   124   153     93  \n",
       " \n",
       " [60 rows x 23 columns]]"
      ]
     },
     "execution_count": 47,
     "metadata": {},
     "output_type": "execute_result"
    }
   ],
   "source": [
    "Datos2"
   ]
  },
  {
   "cell_type": "code",
   "execution_count": 33,
   "id": "36688fbb-ba38-49e9-99b9-8d5a485072b8",
   "metadata": {},
   "outputs": [
    {
     "name": "stdout",
     "output_type": "stream",
     "text": [
      "Datos\n"
     ]
    }
   ],
   "source": [
    "Datos3 = TDMS_File(\"termica_FPGA_100ms_largos_1V.tdms\")"
   ]
  },
  {
   "cell_type": "code",
   "execution_count": 35,
   "id": "4fbc6765-8197-42e4-a01d-9d8db6062253",
   "metadata": {},
   "outputs": [
    {
     "name": "stdout",
     "output_type": "stream",
     "text": [
      "Datos\n"
     ]
    }
   ],
   "source": [
    "Datos4 = TDMS_File(\"termica_FPGA_100ms_largos_5V.tdms\")"
   ]
  },
  {
   "cell_type": "code",
   "execution_count": 39,
   "id": "ebfd431d-d749-47ba-9386-f6e7ec0ef4e8",
   "metadata": {},
   "outputs": [
    {
     "name": "stdout",
     "output_type": "stream",
     "text": [
      "Datos\n"
     ]
    }
   ],
   "source": [
    "Datos5 = TDMS_File(\"termica_FPGA_100ms_largos_10V.tdms\")"
   ]
  },
  {
   "cell_type": "code",
   "execution_count": null,
   "id": "cb3e3277-f458-429e-8850-a7333c9efa0e",
   "metadata": {},
   "outputs": [],
   "source": []
  }
 ],
 "metadata": {
  "kernelspec": {
   "display_name": "Python [conda env:base] *",
   "language": "python",
   "name": "conda-base-py"
  },
  "language_info": {
   "codemirror_mode": {
    "name": "ipython",
    "version": 3
   },
   "file_extension": ".py",
   "mimetype": "text/x-python",
   "name": "python",
   "nbconvert_exporter": "python",
   "pygments_lexer": "ipython3",
   "version": "3.12.7"
  }
 },
 "nbformat": 4,
 "nbformat_minor": 5
}
